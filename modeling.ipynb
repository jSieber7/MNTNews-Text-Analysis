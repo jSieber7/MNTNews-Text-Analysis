{
 "cells": [
  {
   "cell_type": "markdown",
   "metadata": {},
   "source": [
    "# Medical Analysis"
   ]
  },
  {
   "cell_type": "code",
   "execution_count": 33,
   "metadata": {},
   "outputs": [],
   "source": [
    "import pandas as pd\n",
    "import glob, os\n",
    "import re"
   ]
  },
  {
   "cell_type": "code",
   "execution_count": 30,
   "metadata": {},
   "outputs": [
    {
     "data": {
      "text/plain": [
       "'data'"
      ]
     },
     "execution_count": 30,
     "metadata": {},
     "output_type": "execute_result"
    }
   ],
   "source": [
    "os.path.basename('data')"
   ]
  },
  {
   "cell_type": "raw",
   "metadata": {},
   "source": [
    "re.extract"
   ]
  },
  {
   "cell_type": "code",
   "execution_count": 37,
   "metadata": {},
   "outputs": [
    {
     "data": {
      "text/plain": [
       "<_sre.SRE_Match object; span=(0, 1), match='1'>"
      ]
     },
     "execution_count": 37,
     "metadata": {},
     "output_type": "execute_result"
    }
   ],
   "source": [
    "re.match('[^.]', '1000.txt')"
   ]
  },
  {
   "cell_type": "code",
   "execution_count": 44,
   "metadata": {},
   "outputs": [
    {
     "data": {
      "text/plain": [
       "'1000.'"
      ]
     },
     "execution_count": 44,
     "metadata": {},
     "output_type": "execute_result"
    }
   ],
   "source": [
    "re.search('.*[.]', '1000.txt').group(0)"
   ]
  },
  {
   "cell_type": "code",
   "execution_count": 32,
   "metadata": {},
   "outputs": [
    {
     "name": "stdout",
     "output_type": "stream",
     "text": [
      "1000.txt\n",
      "11359.txt\n",
      "11377.txt\n",
      "1149.txt\n",
      "11557.txt\n"
     ]
    }
   ],
   "source": [
    "dictio = {}\n",
    "for file in glob.glob('data/500MNTNews/*.txt')[:5]:\n",
    "    {os.path.basename(file) : "
   ]
  },
  {
   "cell_type": "code",
   "execution_count": null,
   "metadata": {},
   "outputs": [],
   "source": []
  },
  {
   "cell_type": "code",
   "execution_count": null,
   "metadata": {},
   "outputs": [],
   "source": [
    "l = [pd.read_csv(filename) for filename in glob.glob(\"/path/*.txt\")]\n",
    "df = pd.concat(l, axis=0)"
   ]
  },
  {
   "cell_type": "code",
   "execution_count": null,
   "metadata": {},
   "outputs": [],
   "source": []
  },
  {
   "cell_type": "code",
   "execution_count": 2,
   "metadata": {},
   "outputs": [],
   "source": [
    "df = pd.read_csv('data/ground_truth_one_row_per_article.csv')"
   ]
  },
  {
   "cell_type": "code",
   "execution_count": 4,
   "metadata": {},
   "outputs": [
    {
     "data": {
      "text/html": [
       "<div>\n",
       "<style scoped>\n",
       "    .dataframe tbody tr th:only-of-type {\n",
       "        vertical-align: middle;\n",
       "    }\n",
       "\n",
       "    .dataframe tbody tr th {\n",
       "        vertical-align: top;\n",
       "    }\n",
       "\n",
       "    .dataframe thead th {\n",
       "        text-align: right;\n",
       "    }\n",
       "</style>\n",
       "<table border=\"1\" class=\"dataframe\">\n",
       "  <thead>\n",
       "    <tr style=\"text-align: right;\">\n",
       "      <th></th>\n",
       "      <th>article_id</th>\n",
       "      <th>link</th>\n",
       "      <th>title</th>\n",
       "      <th>main_category</th>\n",
       "      <th>category_1</th>\n",
       "      <th>category_2</th>\n",
       "      <th>category_3</th>\n",
       "      <th>category_4</th>\n",
       "      <th>suprise_r1</th>\n",
       "      <th>suprise_r2</th>\n",
       "      <th>...</th>\n",
       "      <th>c1_familiarity_r3</th>\n",
       "      <th>c2_familiarity_r1</th>\n",
       "      <th>c2_familiarity_r2</th>\n",
       "      <th>c2_familiarity_r3</th>\n",
       "      <th>c3_familiarity_r1</th>\n",
       "      <th>c3_familiarity_r2</th>\n",
       "      <th>c3_familiarity_r3</th>\n",
       "      <th>c4_familiarity_r1</th>\n",
       "      <th>c4_familiarity_r2</th>\n",
       "      <th>c4_familiarity_r3</th>\n",
       "    </tr>\n",
       "  </thead>\n",
       "  <tbody>\n",
       "    <tr>\n",
       "      <th>0</th>\n",
       "      <td>9432</td>\n",
       "      <td>http://www.medicalnewstoday.com/articles/14131...</td>\n",
       "      <td>Depression also a problem in patients with Par...</td>\n",
       "      <td>Depression</td>\n",
       "      <td>Depression</td>\n",
       "      <td>NaN</td>\n",
       "      <td>NaN</td>\n",
       "      <td>NaN</td>\n",
       "      <td>3</td>\n",
       "      <td>1</td>\n",
       "      <td>...</td>\n",
       "      <td>4</td>\n",
       "      <td>NaN</td>\n",
       "      <td>NaN</td>\n",
       "      <td>NaN</td>\n",
       "      <td>NaN</td>\n",
       "      <td>NaN</td>\n",
       "      <td>NaN</td>\n",
       "      <td>NaN</td>\n",
       "      <td>NaN</td>\n",
       "      <td>NaN</td>\n",
       "    </tr>\n",
       "    <tr>\n",
       "      <th>1</th>\n",
       "      <td>17114</td>\n",
       "      <td>http://www.medicalnewstoday.com/articles/23226...</td>\n",
       "      <td>Testing new manic depression drugs in slime mo...</td>\n",
       "      <td>Depression</td>\n",
       "      <td>Depression</td>\n",
       "      <td>NaN</td>\n",
       "      <td>NaN</td>\n",
       "      <td>NaN</td>\n",
       "      <td>5</td>\n",
       "      <td>5</td>\n",
       "      <td>...</td>\n",
       "      <td>5</td>\n",
       "      <td>NaN</td>\n",
       "      <td>NaN</td>\n",
       "      <td>NaN</td>\n",
       "      <td>NaN</td>\n",
       "      <td>NaN</td>\n",
       "      <td>NaN</td>\n",
       "      <td>NaN</td>\n",
       "      <td>NaN</td>\n",
       "      <td>NaN</td>\n",
       "    </tr>\n",
       "  </tbody>\n",
       "</table>\n",
       "<p>2 rows × 26 columns</p>\n",
       "</div>"
      ],
      "text/plain": [
       "   article_id                                               link  \\\n",
       "0        9432  http://www.medicalnewstoday.com/articles/14131...   \n",
       "1       17114  http://www.medicalnewstoday.com/articles/23226...   \n",
       "\n",
       "                                               title main_category  \\\n",
       "0  Depression also a problem in patients with Par...    Depression   \n",
       "1  Testing new manic depression drugs in slime mo...    Depression   \n",
       "\n",
       "   category_1 category_2 category_3 category_4  suprise_r1  suprise_r2  \\\n",
       "0  Depression        NaN        NaN        NaN           3           1   \n",
       "1  Depression        NaN        NaN        NaN           5           5   \n",
       "\n",
       "         ...          c1_familiarity_r3  c2_familiarity_r1  c2_familiarity_r2  \\\n",
       "0        ...                          4                NaN                NaN   \n",
       "1        ...                          5                NaN                NaN   \n",
       "\n",
       "   c2_familiarity_r3  c3_familiarity_r1  c3_familiarity_r2  c3_familiarity_r3  \\\n",
       "0                NaN                NaN                NaN                NaN   \n",
       "1                NaN                NaN                NaN                NaN   \n",
       "\n",
       "   c4_familiarity_r1  c4_familiarity_r2  c4_familiarity_r3  \n",
       "0                NaN                NaN                NaN  \n",
       "1                NaN                NaN                NaN  \n",
       "\n",
       "[2 rows x 26 columns]"
      ]
     },
     "execution_count": 4,
     "metadata": {},
     "output_type": "execute_result"
    }
   ],
   "source": [
    "df.head(2)"
   ]
  },
  {
   "cell_type": "code",
   "execution_count": 5,
   "metadata": {},
   "outputs": [
    {
     "data": {
      "text/plain": [
       "(500, 26)"
      ]
     },
     "execution_count": 5,
     "metadata": {},
     "output_type": "execute_result"
    }
   ],
   "source": [
    "df.shape"
   ]
  },
  {
   "cell_type": "code",
   "execution_count": null,
   "metadata": {},
   "outputs": [],
   "source": [
    "pd.re"
   ]
  }
 ],
 "metadata": {
  "kernelspec": {
   "display_name": "Medical",
   "language": "python",
   "name": "medical"
  },
  "language_info": {
   "codemirror_mode": {
    "name": "ipython",
    "version": 3
   },
   "file_extension": ".py",
   "mimetype": "text/x-python",
   "name": "python",
   "nbconvert_exporter": "python",
   "pygments_lexer": "ipython3",
   "version": "3.6.6"
  }
 },
 "nbformat": 4,
 "nbformat_minor": 2
}
